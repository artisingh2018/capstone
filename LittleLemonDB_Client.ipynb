{
 "cells": [
  {
   "cell_type": "code",
   "execution_count": null,
   "metadata": {},
   "outputs": [],
   "source": [
    "# Import MySQL Connector/Python\n",
    "\n",
    "import mysql.connector as connector\n",
    "connection = connector.connect(user = \"your_user_name\", password = \"your_password_for_database\", db = \"database_name\")"
   ]
  },
  {
   "cell_type": "code",
   "execution_count": null,
   "metadata": {},
   "outputs": [],
   "source": [
    "# Create cursor object to communicate with entire MySQL database\n",
    "\n",
    "cursor = connection.cursor()\n",
    "print(\"Cursor is created to communicate with the MySQL using Python.\")"
   ]
  },
  {
   "cell_type": "code",
   "execution_count": null,
   "metadata": {},
   "outputs": [],
   "source": [
    "# Show tables in database\n",
    "\n",
    "show_tables_query = \"SHOW tables\"\n",
    "cursor.execute(show_tables_query)\n",
    "results=cursor.fetchall()\n",
    "columns=cursor.column_names\n",
    "print(columns)\n",
    "for result in results:\n",
    "    print(result)"
   ]
  },
  {
   "cell_type": "code",
   "execution_count": null,
   "metadata": {},
   "outputs": [],
   "source": [
    "# Query the full name and contact details for every customer that has placed an order greater than $60\n",
    "\n",
    "cursor.execute(\"\"\"\n",
    "\n",
    "SELECT\n",
    "\n",
    "Customers.Name,\n",
    "CONCAT(Customers.Address,' ',Customers.ContactNumber,' ',Customers.Email) AS Contact_Details,\n",
    "Orders.TotalCost\n",
    "FROM ((Customers\n",
    "INNER JOIN\n",
    "Bookings\n",
    "ON Customers.CustomerID = Bookings.CustomerID)\n",
    "INNER JOIN\n",
    "Orders\n",
    "ON Bookings.BookingID = Orders.BookingID)\n",
    "WHERE TotalCost > 60;\n",
    "\n",
    "\"\"\")\n",
    "print(\"The following customers have placed an order greater than 60$:\")\n",
    "results=cursor.fetchall()\n",
    "columns=cursor.column_names\n",
    "print(columns)\n",
    "for result in results:\n",
    "    print(result)"
   ]
  }
 ],
 "metadata": {
  "kernelspec": {
   "display_name": "Python 3",
   "language": "python",
   "name": "python3"
  },
  "language_info": {
   "codemirror_mode": {
    "name": "ipython",
    "version": 3
   },
   "file_extension": ".py",
   "mimetype": "text/x-python",
   "name": "python",
   "nbconvert_exporter": "python",
   "pygments_lexer": "ipython3",
   "version": "3.7.4"
  }
 },
 "nbformat": 4,
 "nbformat_minor": 2
}
